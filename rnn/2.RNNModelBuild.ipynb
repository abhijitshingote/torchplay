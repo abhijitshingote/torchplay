{
 "cells": [
  {
   "cell_type": "code",
   "execution_count": 6,
   "id": "c2ffb8dd-d143-48fb-94fe-b59bad6cd802",
   "metadata": {},
   "outputs": [],
   "source": [
    "import torch.nn as nn\n",
    "import torch.nn.functional as F\n",
    "import torch"
   ]
  },
  {
   "cell_type": "code",
   "execution_count": 14,
   "id": "17c896da-9894-4801-b36b-7d265c715347",
   "metadata": {},
   "outputs": [],
   "source": [
    "class Net(nn.Module):\n",
    "    def __init__(self):\n",
    "        super(Net, self).__init__()\n",
    "        self.fc1=nn.Linear(20,30)\n",
    "        self.fc2=nn.Linear(30,1)\n",
    "\n",
    "    def forward(self,x):\n",
    "        x=self.fc1(x)\n",
    "        x=self.fc2(x)\n",
    "        return x"
   ]
  },
  {
   "cell_type": "code",
   "execution_count": 15,
   "id": "9db3f259-15f7-4c9d-9009-045a74bb06ec",
   "metadata": {},
   "outputs": [],
   "source": [
    "net=Net()"
   ]
  },
  {
   "cell_type": "code",
   "execution_count": 16,
   "id": "323b6fb7-1554-4d10-8dd3-1cd1895c616c",
   "metadata": {},
   "outputs": [],
   "source": [
    "o=net(input)"
   ]
  },
  {
   "cell_type": "code",
   "execution_count": 17,
   "id": "d69c24f3-253d-4e43-b9fc-115e538d361f",
   "metadata": {},
   "outputs": [
    {
     "data": {
      "text/plain": [
       "torch.Size([100, 1])"
      ]
     },
     "execution_count": 17,
     "metadata": {},
     "output_type": "execute_result"
    }
   ],
   "source": [
    "o.shape"
   ]
  },
  {
   "cell_type": "code",
   "execution_count": null,
   "id": "ec472203-b08d-4d3e-90e7-0c610527e028",
   "metadata": {},
   "outputs": [],
   "source": [
    "class RNN(nn.Module):\n",
    "    def __init__(self):\n",
    "        super(RNN,self).__init__()\n",
    "        self.rnn=nn.RNN"
   ]
  },
  {
   "cell_type": "code",
   "execution_count": 19,
   "id": "84209c64-38ad-4708-b731-ab0a28b24c1c",
   "metadata": {},
   "outputs": [],
   "source": [
    "r=nn.RNN(input_size=3,hidden_size=10)"
   ]
  },
  {
   "cell_type": "code",
   "execution_count": 20,
   "id": "15fa7bfd-1b94-4c17-a995-e272578fb87e",
   "metadata": {},
   "outputs": [],
   "source": [
    "seq_len=10\n",
    "input_size=3\n",
    "input=torch.randn(seq_len,input_size)\n",
    "h_0=torch.randn(1*1,10)"
   ]
  },
  {
   "cell_type": "code",
   "execution_count": 22,
   "id": "6045b2d3-5ec6-400f-873e-ac5a59f7e5af",
   "metadata": {},
   "outputs": [],
   "source": [
    "o_r=r(input,h_0)"
   ]
  },
  {
   "cell_type": "code",
   "execution_count": 26,
   "id": "2e5a6c93-f9e4-4595-9abd-a57f7a2808a0",
   "metadata": {},
   "outputs": [
    {
     "data": {
      "text/plain": [
       "(torch.Size([10, 10]), torch.Size([1, 10]))"
      ]
     },
     "execution_count": 26,
     "metadata": {},
     "output_type": "execute_result"
    }
   ],
   "source": [
    "o_r[0].shape,o_r[1].shape"
   ]
  },
  {
   "cell_type": "code",
   "execution_count": 27,
   "id": "58192925-c72b-4a89-9ce7-4bd902e9682b",
   "metadata": {},
   "outputs": [],
   "source": [
    "embed=nn.Embedding(2000,300)"
   ]
  },
  {
   "cell_type": "code",
   "execution_count": 30,
   "id": "670e09b1-5481-493d-8223-1c7ff5b939c4",
   "metadata": {},
   "outputs": [
    {
     "data": {
      "text/plain": [
       "torch.Size([300])"
      ]
     },
     "execution_count": 30,
     "metadata": {},
     "output_type": "execute_result"
    }
   ],
   "source": [
    "embed(torch.tensor(1)).shape"
   ]
  },
  {
   "cell_type": "code",
   "execution_count": 4,
   "id": "9045675c-1398-4d0c-be98-1394a27f6e2d",
   "metadata": {},
   "outputs": [],
   "source": [
    "lin=nn.Linear(20,30)"
   ]
  },
  {
   "cell_type": "code",
   "execution_count": 7,
   "id": "8ada1843-eb5e-4303-bd90-a55e3ff18bd5",
   "metadata": {},
   "outputs": [],
   "source": [
    "input=torch.randn(100,20)"
   ]
  },
  {
   "cell_type": "code",
   "execution_count": 8,
   "id": "9be688aa-940f-4f1e-894a-cd424637ab6a",
   "metadata": {},
   "outputs": [],
   "source": [
    "output=lin(input)"
   ]
  },
  {
   "cell_type": "code",
   "execution_count": 10,
   "id": "1842eb2a-9460-487a-9898-b4d03700b1b2",
   "metadata": {},
   "outputs": [
    {
     "data": {
      "text/plain": [
       "torch.Size([100, 30])"
      ]
     },
     "execution_count": 10,
     "metadata": {},
     "output_type": "execute_result"
    }
   ],
   "source": [
    "output.shape"
   ]
  },
  {
   "cell_type": "code",
   "execution_count": 64,
   "id": "a0b4d8d6-093e-4b09-bcc5-f911bb8f1b75",
   "metadata": {},
   "outputs": [],
   "source": [
    "class ProperRNN(nn.Module):\n",
    "    def __init__(self,vocab_size,embed_dim,hidden_size,num_classes):\n",
    "        super(ProperRNN,self).__init__()\n",
    "        self.hidden_size=hidden_size\n",
    "        self.embed=nn.Embedding(vocab_size,embed_dim)\n",
    "        self.rnn=nn.RNN(embed_dim,hidden_size,batch_first=True)\n",
    "        self.fc=nn.Linear(hidden_size,num_classes)\n",
    "\n",
    "    def forward(self,x):\n",
    "        x=self.embed(x)\n",
    "        out,_=self.rnn(x,torch.randn(1*1,x.shape[0],self.hidden_size))\n",
    "        out=out[:,-1,:]\n",
    "        out=self.fc(out)\n",
    "        return out\n",
    "        "
   ]
  },
  {
   "cell_type": "code",
   "execution_count": 65,
   "id": "913b686d-0049-4027-a23e-d2b78fdcdeb7",
   "metadata": {},
   "outputs": [],
   "source": [
    "prnn=ProperRNN(1024,300,10,2)"
   ]
  },
  {
   "cell_type": "code",
   "execution_count": 66,
   "id": "07f943a4-34b1-427e-ae13-c862fc579509",
   "metadata": {},
   "outputs": [
    {
     "data": {
      "text/plain": [
       "torch.Size([100, 3])"
      ]
     },
     "execution_count": 66,
     "metadata": {},
     "output_type": "execute_result"
    }
   ],
   "source": [
    "input=torch.randint(1024,(100,3))\n",
    "input.shape"
   ]
  },
  {
   "cell_type": "code",
   "execution_count": 68,
   "id": "d02abb2e-e264-45cc-9bec-120b93cd7148",
   "metadata": {},
   "outputs": [
    {
     "data": {
      "text/plain": [
       "torch.Size([100, 2])"
      ]
     },
     "execution_count": 68,
     "metadata": {},
     "output_type": "execute_result"
    }
   ],
   "source": [
    "prnn(input).shape"
   ]
  },
  {
   "cell_type": "code",
   "execution_count": null,
   "id": "03b4a407-c82a-44c0-a3d7-4d15895b347c",
   "metadata": {},
   "outputs": [],
   "source": []
  }
 ],
 "metadata": {
  "kernelspec": {
   "display_name": "Python 3 (ipykernel)",
   "language": "python",
   "name": "python3"
  },
  "language_info": {
   "codemirror_mode": {
    "name": "ipython",
    "version": 3
   },
   "file_extension": ".py",
   "mimetype": "text/x-python",
   "name": "python",
   "nbconvert_exporter": "python",
   "pygments_lexer": "ipython3",
   "version": "3.11.7"
  }
 },
 "nbformat": 4,
 "nbformat_minor": 5
}
