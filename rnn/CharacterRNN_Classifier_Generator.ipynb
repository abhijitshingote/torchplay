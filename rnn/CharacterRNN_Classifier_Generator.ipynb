{
 "cells": [
  {
   "cell_type": "markdown",
   "id": "b2d96f60-0d64-471a-9c5f-eaa8834ce364",
   "metadata": {},
   "source": [
    "## Char RNN"
   ]
  },
  {
   "cell_type": "code",
   "execution_count": 1,
   "id": "00e2f88a-348d-4103-a89f-bc13241078fb",
   "metadata": {},
   "outputs": [],
   "source": [
    "import torch\n",
    "import torch.nn as nn\n",
    "import torch.nn.functional as F\n",
    "import matplotlib.pyplot as plt"
   ]
  },
  {
   "cell_type": "code",
   "execution_count": 2,
   "id": "08e5f608-9523-42c9-8271-6a86b4b86893",
   "metadata": {},
   "outputs": [
    {
     "name": "stdout",
     "output_type": "stream",
     "text": [
      "# categories: 18 ['Czech', 'German', 'Arabic', 'Japanese', 'Chinese', 'Vietnamese', 'Russian', 'French', 'Irish', 'English', 'Spanish', 'Greek', 'Italian', 'Portuguese', 'Scottish', 'Dutch', 'Korean', 'Polish']\n",
      "O'Neal\n"
     ]
    }
   ],
   "source": [
    "from io import open\n",
    "import glob\n",
    "import os\n",
    "import unicodedata\n",
    "import string\n",
    "\n",
    "all_letters = string.ascii_letters + \" .,;'-\"\n",
    "n_letters = len(all_letters) + 1 # Plus EOS marker\n",
    "\n",
    "def findFiles(path): return glob.glob(path)\n",
    "\n",
    "# Turn a Unicode string to plain ASCII, thanks to https://stackoverflow.com/a/518232/2809427\n",
    "def unicodeToAscii(s):\n",
    "    return ''.join(\n",
    "        c for c in unicodedata.normalize('NFD', s)\n",
    "        if unicodedata.category(c) != 'Mn'\n",
    "        and c in all_letters\n",
    "    )\n",
    "\n",
    "# Read a file and split into lines\n",
    "def readLines(filename):\n",
    "    with open(filename, encoding='utf-8') as some_file:\n",
    "        return [unicodeToAscii(line.strip()) for line in some_file]\n",
    "\n",
    "# Build the category_lines dictionary, a list of lines per category\n",
    "category_lines = {}\n",
    "all_categories = []\n",
    "for filename in findFiles('data/names/*.txt'):\n",
    "    category = os.path.splitext(os.path.basename(filename))[0]\n",
    "    all_categories.append(category)\n",
    "    lines = readLines(filename)\n",
    "    category_lines[category] = lines\n",
    "\n",
    "n_categories = len(all_categories)\n",
    "\n",
    "if n_categories == 0:\n",
    "    raise RuntimeError('Data not found. Make sure that you downloaded data '\n",
    "        'from https://download.pytorch.org/tutorial/data.zip and extract it to '\n",
    "        'the current directory.')\n",
    "\n",
    "print('# categories:', n_categories, all_categories)\n",
    "print(unicodeToAscii(\"O'Néàl\"))"
   ]
  },
  {
   "cell_type": "code",
   "execution_count": 3,
   "id": "69a4d711-caa1-4a37-ade5-75f42bd7b4fc",
   "metadata": {},
   "outputs": [],
   "source": [
    "import random\n",
    "\n",
    "# Random item from a list\n",
    "def randomChoice(l):\n",
    "    return l[random.randint(0, len(l) - 1)]\n",
    "\n",
    "# Get a random category and random line from that category\n",
    "def randomTrainingPair():\n",
    "    category = randomChoice(all_categories)\n",
    "    line = randomChoice(category_lines[category])\n",
    "    return category, line"
   ]
  },
  {
   "cell_type": "code",
   "execution_count": 4,
   "id": "b93f1c54-d86c-4b5d-9c95-f0415e67783f",
   "metadata": {},
   "outputs": [],
   "source": [
    "def randomTrainingExample():\n",
    "    category = randomChoice(all_categories)\n",
    "    line = randomChoice(category_lines[category])\n",
    "    category_tensor = torch.tensor([all_categories.index(category)], dtype=torch.long)\n",
    "    line_tensor = lineToTensor(line)\n",
    "    return category, line, category_tensor, line_tensor"
   ]
  },
  {
   "cell_type": "code",
   "execution_count": 5,
   "id": "716e7db2-c4c9-49a3-864d-ed9e2fa2c81f",
   "metadata": {},
   "outputs": [],
   "source": [
    "# One-hot vector for category\n",
    "def categoryTensor(category):\n",
    "    li = all_categories.index(category)\n",
    "    tensor = torch.zeros(1, n_categories)\n",
    "    tensor[0][li] = 1\n",
    "    return tensor\n",
    "\n",
    "# One-hot matrix of first to last letters (not including EOS) for input\n",
    "def inputTensor(line):\n",
    "    tensor = torch.zeros(len(line), 1, n_letters)\n",
    "    for li in range(len(line)):\n",
    "        letter = line[li]\n",
    "        tensor[li][0][all_letters.find(letter)] = 1\n",
    "    return tensor\n",
    "\n",
    "# ``LongTensor`` of second letter to end (EOS) for target\n",
    "def targetTensor(line):\n",
    "    letter_indexes = [all_letters.find(line[li]) for li in range(1, len(line))]\n",
    "    letter_indexes.append(n_letters - 1) # EOS\n",
    "    return torch.LongTensor(letter_indexes)\n",
    "\n",
    "# Make category, input, and target tensors from a random category, line pair\n",
    "def randomTrainingExample_Classifier():\n",
    "    category, line = randomTrainingPair()\n",
    "    category_tensor = torch.tensor([all_categories.index(category)], dtype=torch.long)\n",
    "    input_line_tensor = inputTensor(line)\n",
    "    target_line_tensor = targetTensor(line)\n",
    "    return category_tensor, input_line_tensor\n",
    "\n",
    "def randomTrainingExample_Generator():\n",
    "    category, line = randomTrainingPair()\n",
    "    category_tensor = categoryTensor(category)\n",
    "    input_line_tensor = inputTensor(line)\n",
    "    target_line_tensor = targetTensor(line)\n",
    "    return category_tensor, input_line_tensor, target_line_tensor"
   ]
  },
  {
   "cell_type": "code",
   "execution_count": 6,
   "id": "ad4244a6-1ee7-44e8-bd7e-027354454aa4",
   "metadata": {},
   "outputs": [],
   "source": [
    "def categoryFromOutput(output):\n",
    "    top_n, top_i = output.topk(1)\n",
    "    category_i = top_i[0].item()\n",
    "    return all_categories[category_i], category_i\n",
    "\n",
    "# print(categoryFromOutput(o))"
   ]
  },
  {
   "cell_type": "markdown",
   "id": "de543263-f20f-4ba8-8970-cd29e7c94bcd",
   "metadata": {},
   "source": [
    "## Char RNN Classifier"
   ]
  },
  {
   "cell_type": "code",
   "execution_count": 7,
   "id": "3ee46414-ea7c-4964-84d0-23b33901e321",
   "metadata": {},
   "outputs": [],
   "source": [
    "class RNNClassifier(nn.Module):\n",
    "    def __init__(self,input_size,hidden_size,output_size):\n",
    "        super(RNNClassifier,self).__init__()\n",
    "        self.i2h=nn.Linear(input_size+hidden_size,hidden_size)\n",
    "        self.h2o=nn.Linear(hidden_size,output_size)\n",
    "        self.softmax = nn.LogSoftmax(dim=1)\n",
    "\n",
    "        \n",
    "    def forward(self,inp,hidden):\n",
    "        hidden=self.i2h(torch.cat((inp,hidden),1))\n",
    "        output=self.h2o(hidden)\n",
    "        output=self.softmax(output)\n",
    "        return output,hidden\n",
    "        "
   ]
  },
  {
   "cell_type": "code",
   "execution_count": 8,
   "id": "24ac6528-99af-4a75-82e7-bb8f57b908a5",
   "metadata": {},
   "outputs": [],
   "source": [
    "n_hidden=128\n",
    "rnn=RNNClassifier(n_letters,n_hidden,n_categories)"
   ]
  },
  {
   "cell_type": "code",
   "execution_count": 9,
   "id": "4508b8c6-8dc6-49cf-a30e-c7ead60505eb",
   "metadata": {},
   "outputs": [],
   "source": [
    "criterion = nn.NLLLoss()\n",
    "optimizer = torch.optim.SGD(rnn.parameters(), lr=1e-3)"
   ]
  },
  {
   "cell_type": "code",
   "execution_count": 10,
   "id": "dbf5d19c-a514-426a-ae10-8f296c4c1da8",
   "metadata": {},
   "outputs": [],
   "source": [
    "def train_RNNClassifier():\n",
    "        hidden=torch.zeros(1,n_hidden)\n",
    "        rnn.zero_grad()\n",
    "        \n",
    "        target,inp=randomTrainingExample_Classifier()\n",
    "        for i in range(len(inp)):\n",
    "            o,hidden=rnn(inp[i],hidden)\n",
    "        \n",
    "        loss=criterion(o,target)\n",
    "        loss.backward()\n",
    "        optimizer.step()\n",
    "        optimizer.step()\n",
    "        optimizer.zero_grad()\n",
    "        return o,loss.item()\n",
    "        "
   ]
  },
  {
   "cell_type": "code",
   "execution_count": 11,
   "id": "71dcf399-bac7-432f-b08f-ec58bfd076f1",
   "metadata": {},
   "outputs": [],
   "source": [
    "current_loss=0\n",
    "all_losses=[]\n",
    "for i in range(1,100001):\n",
    "    o,loss=train_RNNClassifier()\n",
    "    current_loss+=loss\n",
    "    if i%1000==0:\n",
    "        # print(categoryFromOutput(o),loss)\n",
    "        avg_loss=current_loss/1000\n",
    "        all_losses.append(avg_loss)\n",
    "        current_loss=0\n"
   ]
  },
  {
   "cell_type": "code",
   "execution_count": 12,
   "id": "941ab335-0322-4731-aa36-eeaf3c9bad72",
   "metadata": {},
   "outputs": [
    {
     "data": {
      "text/plain": [
       "[<matplotlib.lines.Line2D at 0x1646dcb90>]"
      ]
     },
     "execution_count": 12,
     "metadata": {},
     "output_type": "execute_result"
    },
    {
     "data": {
      "image/png": "[encoded data removed]",
      "text/plain": [
       "<Figure size 640x480 with 1 Axes>"
      ]
     },
     "metadata": {},
     "output_type": "display_data"
    }
   ],
   "source": [
    "plt.plot(all_losses)"
   ]
  },
  {
   "cell_type": "markdown",
   "id": "476d984b-61a2-4a41-adba-e0bfc2426117",
   "metadata": {},
   "source": [
    "## Predictions"
   ]
  },
  {
   "cell_type": "code",
   "execution_count": 13,
   "id": "e8033f51-6acc-4eb8-8d1b-b492b3282663",
   "metadata": {},
   "outputs": [
    {
     "name": "stdout",
     "output_type": "stream",
     "text": [
      "Mozart  --> ('Dutch', 15)\n",
      "Chaikovsky  --> ('Russian', 6)\n",
      "Hendrix  --> ('Czech', 0)\n",
      "Beethoven  --> ('Dutch', 15)\n",
      "Tan  --> ('Vietnamese', 5)\n",
      "Nargiz  --> ('Arabic', 2)\n",
      "Su  --> ('Korean', 16)\n",
      "Ahmed  --> ('Arabic', 2)\n"
     ]
    }
   ],
   "source": [
    "testnames=['Mozart','Chaikovsky','Hendrix','Beethoven','Tan','Nargiz','Su','Ahmed']\n",
    "for testname in testnames:\n",
    "    hidden=torch.zeros(1,n_hidden)\n",
    "    inp=inputTensor(testname)\n",
    "    for i in range(len(inp)):\n",
    "        o,hidden=rnn(inp[i],hidden)\n",
    "    print(testname,' -->',categoryFromOutput(o))"
   ]
  },
  {
   "cell_type": "markdown",
   "id": "a06b7074-a07a-4114-b8e4-e1d8b03459bf",
   "metadata": {},
   "source": [
    "## Char RNN Generator"
   ]
  },
  {
   "cell_type": "code",
   "execution_count": 14,
   "id": "5f2df468-d11b-4989-9a46-41c686a6cf6d",
   "metadata": {},
   "outputs": [],
   "source": [
    "class RNNGenerator(nn.Module):\n",
    "    def __init__(self,category_size,input_size,hidden_size):\n",
    "        super(RNNGenerator,self).__init__()\n",
    "        self.i2h=nn.Linear(category_size+input_size+hidden_size,hidden_size)\n",
    "        self.h2o=nn.Linear(hidden_size,input_size)\n",
    "        self.softmax=nn.LogSoftmax(dim=1)\n",
    "        \n",
    "        \n",
    "    def forward(self,category,inp,hidden):\n",
    "        hidden=self.i2h(torch.cat((category,inp,hidden),1))\n",
    "        output=self.h2o(hidden)\n",
    "        output=self.softmax(output)\n",
    "        return output,hidden"
   ]
  },
  {
   "cell_type": "code",
   "execution_count": 15,
   "id": "69cc38da-c2be-4d88-83c1-ee53b78f08eb",
   "metadata": {},
   "outputs": [],
   "source": [
    "hidden_size=128\n",
    "category_size=18\n",
    "input_size=59\n",
    "hidden=torch.zeros(1,hidden_size)\n",
    "rnn_generator=RNNGenerator(category_size,input_size,hidden_size)\n",
    "criterion = nn.NLLLoss()\n",
    "optimizer = torch.optim.SGD(rnn_generator.parameters(), lr=5e-4)"
   ]
  },
  {
   "cell_type": "code",
   "execution_count": 16,
   "id": "b6044915-0ac8-4b00-896b-5c31a4848429",
   "metadata": {},
   "outputs": [],
   "source": [
    "def train_RNNGenerator():\n",
    "        tot_loss=0\n",
    "        hidden=torch.zeros(1,n_hidden)\n",
    "        rnn_generator.zero_grad()\n",
    "        \n",
    "        category_tensor, input_line_tensor, target_line_tensor=randomTrainingExample_Generator()\n",
    "        for i in range(len(input_line_tensor)):\n",
    "            o,hidden=rnn_generator(category_tensor,input_line_tensor[i],hidden)\n",
    "            loss=criterion(o,target_line_tensor[i].unsqueeze(-1))\n",
    "            # loss.backward()\n",
    "            # optimizer.step()\n",
    "            tot_loss+=loss\n",
    "        # Autograd Magic\n",
    "        tot_loss.backward()\n",
    "        optimizer.step()\n",
    "        optimizer.zero_grad()\n",
    "        return o,tot_loss.item()\n",
    "        "
   ]
  },
  {
   "cell_type": "code",
   "execution_count": 17,
   "id": "7d5db426-ab40-4b06-912a-6236b8b48717",
   "metadata": {},
   "outputs": [],
   "source": [
    "current_loss=0\n",
    "all_losses=[]\n",
    "for i in range(1,10000001):\n",
    "    o,loss=train_RNNGenerator()\n",
    "    current_loss+=loss\n",
    "    if i%1000==0:\n",
    "        # print(categoryFromOutput(o),loss)\n",
    "        avg_loss=current_loss/1000\n",
    "        all_losses.append(avg_loss)\n",
    "        current_loss=0"
   ]
  },
  {
   "cell_type": "code",
   "execution_count": 18,
   "id": "80633605-202c-403c-9717-d2d92b4e58d3",
   "metadata": {},
   "outputs": [
    {
     "data": {
      "text/plain": [
       "[<matplotlib.lines.Line2D at 0x16451e7d0>]"
      ]
     },
     "execution_count": 18,
     "metadata": {},
     "output_type": "execute_result"
    },
    {
     "data": {
      "image/png": "[encoded data removed]",
      "text/plain": [
       "<Figure size 640x480 with 1 Axes>"
      ]
     },
     "metadata": {},
     "output_type": "display_data"
    }
   ],
   "source": [
    "plt.plot(all_losses)"
   ]
  },
  {
   "cell_type": "code",
   "execution_count": 19,
   "id": "11fff358-1ac7-44ea-9a75-927e8a7bc9cd",
   "metadata": {},
   "outputs": [
    {
     "data": {
      "text/plain": [
       "tensor([[0., 1., 0., 0., 0., 0., 0., 0., 0., 0., 0., 0., 0., 0., 0., 0., 0., 0.]])"
      ]
     },
     "execution_count": 19,
     "metadata": {},
     "output_type": "execute_result"
    }
   ],
   "source": [
    "categoryTensor('German')"
   ]
  },
  {
   "cell_type": "code",
   "execution_count": 20,
   "id": "e06f526a-394b-421f-9b05-6023be5bc72d",
   "metadata": {},
   "outputs": [
    {
     "data": {
      "text/plain": [
       "tensor([[0., 0., 0., 0., 0., 0., 0., 0., 0., 0., 0., 0., 0., 0., 0., 0., 0., 0.,\n",
       "         0., 0., 0., 0., 0., 0., 0., 0., 0., 0., 0., 0., 0., 0., 0., 0., 0., 0.,\n",
       "         0., 0., 0., 0., 0., 0., 0., 1., 0., 0., 0., 0., 0., 0., 0., 0., 0., 0.,\n",
       "         0., 0., 0., 0., 0.]])"
      ]
     },
     "execution_count": 20,
     "metadata": {},
     "output_type": "execute_result"
    }
   ],
   "source": [
    "inputTensor('R')[0]"
   ]
  },
  {
   "cell_type": "code",
   "execution_count": 21,
   "id": "dcfe84a1-d829-465a-bb8e-c49ab80c4104",
   "metadata": {},
   "outputs": [],
   "source": [
    "p=rnn_generator(categoryTensor('Chinese'),inputTensor('p')[0],torch.zeros(1,hidden_size))"
   ]
  },
  {
   "cell_type": "code",
   "execution_count": 22,
   "id": "79f0baea-27a4-48fc-a8f3-4900ea2e4267",
   "metadata": {},
   "outputs": [
    {
     "data": {
      "text/plain": [
       "tensor([ -1.8326,  -8.8829,  -9.6729, -12.0314,  -2.2484,  -9.8649,  -8.4462,\n",
       "         -1.8757,  -1.6110, -14.0659,  -6.7667,  -8.5628,  -8.6116,  -5.4071,\n",
       "         -1.5188,  -6.1286, -15.1959,  -7.3682,  -2.9806,  -8.4721,  -2.4156,\n",
       "        -14.1198,  -6.9830, -18.1239,  -8.2826,  -7.3103, -14.5265, -16.0368,\n",
       "        -16.1546, -16.3280, -14.4067, -14.0806, -15.6424, -16.4476, -14.3308,\n",
       "        -14.6234, -15.4731, -15.2508, -15.8862, -13.8031, -15.8697, -14.5879,\n",
       "        -14.4234, -15.8386, -15.4541, -15.7365, -14.6072, -14.4462, -14.6101,\n",
       "        -14.6592, -12.3418, -14.6155, -15.0247, -14.6813, -13.9472, -14.5271,\n",
       "        -18.5315, -11.3544,  -4.5044], grad_fn=<SelectBackward0>)"
      ]
     },
     "execution_count": 22,
     "metadata": {},
     "output_type": "execute_result"
    }
   ],
   "source": [
    "p[0][0]"
   ]
  },
  {
   "cell_type": "code",
   "execution_count": 23,
   "id": "a8b246cb-7da1-4e01-b08a-2d9b7ebfb48d",
   "metadata": {},
   "outputs": [
    {
     "data": {
      "text/plain": [
       "tensor(14)"
      ]
     },
     "execution_count": 23,
     "metadata": {},
     "output_type": "execute_result"
    }
   ],
   "source": [
    "torch.argmax(p[0][0])"
   ]
  },
  {
   "cell_type": "code",
   "execution_count": 24,
   "id": "146f3ce9-919d-4906-82c6-1114dd50200a",
   "metadata": {},
   "outputs": [
    {
     "data": {
      "text/plain": [
       "tensor([[0., 0., 0., 0., 0., 0., 0., 0., 0., 0., 0., 0., 0., 0., 0., 1., 0., 0.,\n",
       "         0., 0., 0., 0., 0., 0., 0., 0., 0., 0., 0., 0., 0., 0., 0., 0., 0., 0.,\n",
       "         0., 0., 0., 0., 0., 0., 0., 0., 0., 0., 0., 0., 0., 0., 0., 0., 0., 0.,\n",
       "         0., 0., 0., 0., 0.]])"
      ]
     },
     "execution_count": 24,
     "metadata": {},
     "output_type": "execute_result"
    }
   ],
   "source": [
    "inputTensor('p')[0]"
   ]
  },
  {
   "cell_type": "code",
   "execution_count": 25,
   "id": "d0495798-d51f-4944-a92a-e1ff4feb47c5",
   "metadata": {},
   "outputs": [
    {
     "data": {
      "text/plain": [
       "torch.Size([6])"
      ]
     },
     "execution_count": 25,
     "metadata": {},
     "output_type": "execute_result"
    }
   ],
   "source": [
    "randomTrainingExample_Generator()[2].shape"
   ]
  },
  {
   "cell_type": "code",
   "execution_count": 26,
   "id": "f873090a-eaa4-489d-83da-154e56c6c965",
   "metadata": {},
   "outputs": [
    {
     "name": "stdout",
     "output_type": "stream",
     "text": [
      "Roshivek\n",
      "Unganev\n",
      "Shimann\n",
      "Grenn\n",
      "Ester\n",
      "Roser\n",
      "Salvan\n",
      "Panto\n",
      "Abara\n",
      "Cha\n",
      "Han\n",
      "Ino\n"
     ]
    }
   ],
   "source": [
    "max_length = 20\n",
    "\n",
    "# Sample from a category and starting letter\n",
    "def sample(category, start_letter='A'):\n",
    "    with torch.no_grad():  # no need to track history in sampling\n",
    "        category_tensor = categoryTensor(category)\n",
    "        input = inputTensor(start_letter)\n",
    "        hidden=torch.zeros(1,hidden_size)\n",
    "\n",
    "        output_name = start_letter\n",
    "\n",
    "        for i in range(max_length):\n",
    "            output, hidden = rnn_generator(category_tensor, input[0], hidden)\n",
    "            topv, topi = output.topk(1)\n",
    "            topi = topi[0][0]\n",
    "            if topi == n_letters - 1:\n",
    "                break\n",
    "            else:\n",
    "                letter = all_letters[topi]\n",
    "                output_name += letter\n",
    "            input = inputTensor(letter)\n",
    "\n",
    "        return output_name\n",
    "\n",
    "# Get multiple samples from one category and multiple starting letters\n",
    "def samples(category, start_letters='ABC'):\n",
    "    for start_letter in start_letters:\n",
    "        print(sample(category, start_letter))\n",
    "\n",
    "samples('Russian', 'RUS')\n",
    "\n",
    "samples('German', 'GER')\n",
    "\n",
    "samples('Spanish', 'SPA')\n",
    "\n",
    "samples('Chinese', 'CHI')"
   ]
  },
  {
   "cell_type": "code",
   "execution_count": null,
   "id": "38314923-da07-4130-99f5-7e21b2467c7d",
   "metadata": {},
   "outputs": [],
   "source": []
  }
 ],
 "metadata": {
  "kernelspec": {
   "display_name": "Python 3 (ipykernel)",
   "language": "python",
   "name": "python3"
  },
  "language_info": {
   "codemirror_mode": {
    "name": "ipython",
    "version": 3
   },
   "file_extension": ".py",
   "mimetype": "text/x-python",
   "name": "python",
   "nbconvert_exporter": "python",
   "pygments_lexer": "ipython3",
   "version": "3.11.3"
  }
 },
 "nbformat": 4,
 "nbformat_minor": 5
}
