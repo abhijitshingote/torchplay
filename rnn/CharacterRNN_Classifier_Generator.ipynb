{
 "cells": [
  {
   "cell_type": "markdown",
   "id": "b2d96f60-0d64-471a-9c5f-eaa8834ce364",
   "metadata": {},
   "source": [
    "## Char RNN"
   ]
  },
  {
   "cell_type": "code",
   "execution_count": 1,
   "id": "00e2f88a-348d-4103-a89f-bc13241078fb",
   "metadata": {},
   "outputs": [],
   "source": [
    "import torch\n",
    "import torch.nn as nn\n",
    "import torch.nn.functional as F\n",
    "import matplotlib.pyplot as plt"
   ]
  },
  {
   "cell_type": "code",
   "execution_count": 2,
   "id": "08e5f608-9523-42c9-8271-6a86b4b86893",
   "metadata": {},
   "outputs": [
    {
     "name": "stdout",
     "output_type": "stream",
     "text": [
      "# categories: 18 ['Czech', 'German', 'Arabic', 'Japanese', 'Chinese', 'Vietnamese', 'Russian', 'French', 'Irish', 'English', 'Spanish', 'Greek', 'Italian', 'Portuguese', 'Scottish', 'Dutch', 'Korean', 'Polish']\n",
      "O'Neal\n"
     ]
    }
   ],
   "source": [
    "from io import open\n",
    "import glob\n",
    "import os\n",
    "import unicodedata\n",
    "import string\n",
    "\n",
    "all_letters = string.ascii_letters + \" .,;'-\"\n",
    "n_letters = len(all_letters) + 1 # Plus EOS marker\n",
    "\n",
    "def findFiles(path): return glob.glob(path)\n",
    "\n",
    "# Turn a Unicode string to plain ASCII, thanks to https://stackoverflow.com/a/518232/2809427\n",
    "def unicodeToAscii(s):\n",
    "    return ''.join(\n",
    "        c for c in unicodedata.normalize('NFD', s)\n",
    "        if unicodedata.category(c) != 'Mn'\n",
    "        and c in all_letters\n",
    "    )\n",
    "\n",
    "# Read a file and split into lines\n",
    "def readLines(filename):\n",
    "    with open(filename, encoding='utf-8') as some_file:\n",
    "        return [unicodeToAscii(line.strip()) for line in some_file]\n",
    "\n",
    "# Build the category_lines dictionary, a list of lines per category\n",
    "category_lines = {}\n",
    "all_categories = []\n",
    "for filename in findFiles('data/names/*.txt'):\n",
    "    category = os.path.splitext(os.path.basename(filename))[0]\n",
    "    all_categories.append(category)\n",
    "    lines = readLines(filename)\n",
    "    category_lines[category] = lines\n",
    "\n",
    "n_categories = len(all_categories)\n",
    "\n",
    "if n_categories == 0:\n",
    "    raise RuntimeError('Data not found. Make sure that you downloaded data '\n",
    "        'from https://download.pytorch.org/tutorial/data.zip and extract it to '\n",
    "        'the current directory.')\n",
    "\n",
    "print('# categories:', n_categories, all_categories)\n",
    "print(unicodeToAscii(\"O'Néàl\"))"
   ]
  },
  {
   "cell_type": "code",
   "execution_count": 3,
   "id": "69a4d711-caa1-4a37-ade5-75f42bd7b4fc",
   "metadata": {},
   "outputs": [],
   "source": [
    "import random\n",
    "\n",
    "# Random item from a list\n",
    "def randomChoice(l):\n",
    "    return l[random.randint(0, len(l) - 1)]\n",
    "\n",
    "# Get a random category and random line from that category\n",
    "def randomTrainingPair():\n",
    "    category = randomChoice(all_categories)\n",
    "    line = randomChoice(category_lines[category])\n",
    "    return category, line"
   ]
  },
  {
   "cell_type": "code",
   "execution_count": 4,
   "id": "b93f1c54-d86c-4b5d-9c95-f0415e67783f",
   "metadata": {},
   "outputs": [],
   "source": [
    "def randomTrainingExample():\n",
    "    category = randomChoice(all_categories)\n",
    "    line = randomChoice(category_lines[category])\n",
    "    category_tensor = torch.tensor([all_categories.index(category)], dtype=torch.long)\n",
    "    line_tensor = lineToTensor(line)\n",
    "    return category, line, category_tensor, line_tensor"
   ]
  },
  {
   "cell_type": "code",
   "execution_count": 5,
   "id": "716e7db2-c4c9-49a3-864d-ed9e2fa2c81f",
   "metadata": {},
   "outputs": [],
   "source": [
    "# One-hot vector for category\n",
    "def categoryTensor(category):\n",
    "    li = all_categories.index(category)\n",
    "    tensor = torch.zeros(1, n_categories)\n",
    "    tensor[0][li] = 1\n",
    "    return tensor\n",
    "\n",
    "# One-hot matrix of first to last letters (not including EOS) for input\n",
    "def inputTensor(line):\n",
    "    tensor = torch.zeros(len(line), 1, n_letters)\n",
    "    for li in range(len(line)):\n",
    "        letter = line[li]\n",
    "        tensor[li][0][all_letters.find(letter)] = 1\n",
    "    return tensor\n",
    "\n",
    "# ``LongTensor`` of second letter to end (EOS) for target\n",
    "def targetTensor(line):\n",
    "    letter_indexes = [all_letters.find(line[li]) for li in range(1, len(line))]\n",
    "    letter_indexes.append(n_letters - 1) # EOS\n",
    "    return torch.LongTensor(letter_indexes)\n",
    "\n",
    "# Make category, input, and target tensors from a random category, line pair\n",
    "def randomTrainingExample_Classifier():\n",
    "    category, line = randomTrainingPair()\n",
    "    category_tensor = torch.tensor([all_categories.index(category)], dtype=torch.long)\n",
    "    input_line_tensor = inputTensor(line)\n",
    "    target_line_tensor = targetTensor(line)\n",
    "    return category_tensor, input_line_tensor\n",
    "\n",
    "def randomTrainingExample_Generator():\n",
    "    category, line = randomTrainingPair()\n",
    "    category_tensor = categoryTensor(category)\n",
    "    input_line_tensor = inputTensor(line)\n",
    "    target_line_tensor = targetTensor(line)\n",
    "    return category_tensor, input_line_tensor, target_line_tensor"
   ]
  },
  {
   "cell_type": "code",
   "execution_count": 6,
   "id": "ad4244a6-1ee7-44e8-bd7e-027354454aa4",
   "metadata": {},
   "outputs": [],
   "source": [
    "def categoryFromOutput(output):\n",
    "    top_n, top_i = output.topk(1)\n",
    "    category_i = top_i[0].item()\n",
    "    return all_categories[category_i], category_i\n",
    "\n",
    "# print(categoryFromOutput(o))"
   ]
  },
  {
   "cell_type": "markdown",
   "id": "de543263-f20f-4ba8-8970-cd29e7c94bcd",
   "metadata": {},
   "source": [
    "## Char RNN Classifier"
   ]
  },
  {
   "cell_type": "code",
   "execution_count": 7,
   "id": "3ee46414-ea7c-4964-84d0-23b33901e321",
   "metadata": {},
   "outputs": [],
   "source": [
    "class RNNClassifier(nn.Module):\n",
    "    def __init__(self,input_size,hidden_size,output_size):\n",
    "        super(RNNClassifier,self).__init__()\n",
    "        self.i2h=nn.Linear(input_size+hidden_size,hidden_size)\n",
    "        self.h2o=nn.Linear(hidden_size,output_size)\n",
    "        self.softmax = nn.LogSoftmax(dim=1)\n",
    "\n",
    "        \n",
    "    def forward(self,inp,hidden):\n",
    "        hidden=self.i2h(torch.cat((inp,hidden),1))\n",
    "        output=self.h2o(hidden)\n",
    "        output=self.softmax(output)\n",
    "        return output,hidden\n",
    "        "
   ]
  },
  {
   "cell_type": "code",
   "execution_count": 8,
   "id": "24ac6528-99af-4a75-82e7-bb8f57b908a5",
   "metadata": {},
   "outputs": [],
   "source": [
    "n_hidden=128\n",
    "rnn=RNNClassifier(n_letters,n_hidden,n_categories)"
   ]
  },
  {
   "cell_type": "code",
   "execution_count": 9,
   "id": "4508b8c6-8dc6-49cf-a30e-c7ead60505eb",
   "metadata": {},
   "outputs": [],
   "source": [
    "criterion = nn.NLLLoss()\n",
    "optimizer = torch.optim.SGD(rnn.parameters(), lr=1e-3)"
   ]
  },
  {
   "cell_type": "code",
   "execution_count": 10,
   "id": "dbf5d19c-a514-426a-ae10-8f296c4c1da8",
   "metadata": {},
   "outputs": [],
   "source": [
    "def train_RNNClassifier():\n",
    "        hidden=torch.zeros(1,n_hidden)\n",
    "        rnn.zero_grad()\n",
    "        \n",
    "        target,inp=randomTrainingExample_Classifier()\n",
    "        for i in range(len(inp)):\n",
    "            o,hidden=rnn(inp[i],hidden)\n",
    "        \n",
    "        loss=criterion(o,target)\n",
    "        loss.backward()\n",
    "        optimizer.step()\n",
    "        optimizer.step()\n",
    "        optimizer.zero_grad()\n",
    "        return o,loss.item()\n",
    "        "
   ]
  },
  {
   "cell_type": "code",
   "execution_count": 11,
   "id": "71dcf399-bac7-432f-b08f-ec58bfd076f1",
   "metadata": {},
   "outputs": [],
   "source": [
    "current_loss=0\n",
    "all_losses=[]\n",
    "for i in range(1,100001):\n",
    "    o,loss=train_RNNClassifier()\n",
    "    current_loss+=loss\n",
    "    if i%1000==0:\n",
    "        # print(categoryFromOutput(o),loss)\n",
    "        avg_loss=current_loss/1000\n",
    "        all_losses.append(avg_loss)\n",
    "        current_loss=0\n"
   ]
  },
  {
   "cell_type": "code",
   "execution_count": 12,
   "id": "941ab335-0322-4731-aa36-eeaf3c9bad72",
   "metadata": {},
   "outputs": [
    {
     "data": {
      "text/plain": [
       "[<matplotlib.lines.Line2D at 0x13f68c610>]"
      ]
     },
     "execution_count": 12,
     "metadata": {},
     "output_type": "execute_result"
    },
    {
     "data": {
      "image/png": "[encoded data removed]",
      "text/plain": [
       "<Figure size 640x480 with 1 Axes>"
      ]
     },
     "metadata": {},
     "output_type": "display_data"
    }
   ],
   "source": [
    "plt.plot(all_losses)"
   ]
  },
  {
   "cell_type": "markdown",
   "id": "476d984b-61a2-4a41-adba-e0bfc2426117",
   "metadata": {},
   "source": [
    "## Predictions"
   ]
  },
  {
   "cell_type": "code",
   "execution_count": 61,
   "id": "e8033f51-6acc-4eb8-8d1b-b492b3282663",
   "metadata": {},
   "outputs": [
    {
     "name": "stdout",
     "output_type": "stream",
     "text": [
      "Mozart  --> ('Dutch', 15)\n",
      "Chaikovsky  --> ('Russian', 6)\n",
      "Hendrix  --> ('Scottish', 14)\n",
      "Beethoven  --> ('Dutch', 15)\n",
      "Tan  --> ('Vietnamese', 5)\n",
      "Nargiz  --> ('Arabic', 2)\n",
      "Su  --> ('Korean', 16)\n",
      "Ahmed  --> ('Arabic', 2)\n"
     ]
    }
   ],
   "source": [
    "testnames=['Mozart','Chaikovsky','Hendrix','Beethoven','Tan','Nargiz','Su','Ahmed']\n",
    "for testname in testnames:\n",
    "    hidden=torch.zeros(1,n_hidden)\n",
    "    inp=inputTensor(testname)\n",
    "    for i in range(len(inp)):\n",
    "        o,hidden=rnn(inp[i],hidden)\n",
    "    print(testname,' -->',categoryFromOutput(o))"
   ]
  },
  {
   "cell_type": "markdown",
   "id": "a06b7074-a07a-4114-b8e4-e1d8b03459bf",
   "metadata": {},
   "source": [
    "## Char RNN Generator"
   ]
  },
  {
   "cell_type": "code",
   "execution_count": 13,
   "id": "5f2df468-d11b-4989-9a46-41c686a6cf6d",
   "metadata": {},
   "outputs": [],
   "source": [
    "class RNNGenerator(nn.Module):\n",
    "    def __init__(self,category_size,input_size,hidden_size):\n",
    "        super(RNNGenerator,self).__init__()\n",
    "        self.i2h=nn.Linear(category_size+input_size+hidden_size,hidden_size)\n",
    "        self.h2o=nn.Linear(hidden_size,input_size)\n",
    "        self.softmax=nn.LogSoftmax(dim=1)\n",
    "        \n",
    "        \n",
    "    def forward(self,category,inp,hidden):\n",
    "        hidden=self.i2h(torch.cat((category,inp,hidden),1))\n",
    "        output=self.h2o(hidden)\n",
    "        output=self.softmax(output)\n",
    "        return output,hidden"
   ]
  },
  {
   "cell_type": "code",
   "execution_count": 14,
   "id": "69cc38da-c2be-4d88-83c1-ee53b78f08eb",
   "metadata": {},
   "outputs": [],
   "source": [
    "hidden_size=128\n",
    "category_size=18\n",
    "input_size=59\n",
    "hidden=torch.zeros(1,hidden_size)\n",
    "rnn_generator=RNNGenerator(category_size,input_size,hidden_size)\n",
    "criterion = nn.NLLLoss()\n",
    "optimizer = torch.optim.SGD(rnn_generator.parameters(), lr=5e-4)"
   ]
  },
  {
   "cell_type": "code",
   "execution_count": 15,
   "id": "b6044915-0ac8-4b00-896b-5c31a4848429",
   "metadata": {},
   "outputs": [],
   "source": [
    "def train_RNNGenerator():\n",
    "        tot_loss=0\n",
    "        hidden=torch.zeros(1,n_hidden)\n",
    "        rnn_generator.zero_grad()\n",
    "        \n",
    "        category_tensor, input_line_tensor, target_line_tensor=randomTrainingExample_Generator()\n",
    "        for i in range(len(input_line_tensor)):\n",
    "            o,hidden=rnn_generator(category_tensor,input_line_tensor[i],hidden)\n",
    "            loss=criterion(o,target_line_tensor[i].unsqueeze(-1))\n",
    "            # loss.backward()\n",
    "            # optimizer.step()\n",
    "        # Autograd Magic\n",
    "        tot_loss+=loss\n",
    "        tot_loss.backward()\n",
    "        optimizer.step()\n",
    "        optimizer.zero_grad()\n",
    "        return o,tot_loss.item()\n",
    "        "
   ]
  },
  {
   "cell_type": "code",
   "execution_count": 16,
   "id": "7d5db426-ab40-4b06-912a-6236b8b48717",
   "metadata": {},
   "outputs": [],
   "source": [
    "current_loss=0\n",
    "all_losses=[]\n",
    "for i in range(1,100001):\n",
    "    o,loss=train_RNNGenerator()\n",
    "    current_loss+=loss\n",
    "    if i%1000==0:\n",
    "        # print(categoryFromOutput(o),loss)\n",
    "        avg_loss=current_loss/1000\n",
    "        all_losses.append(avg_loss)\n",
    "        current_loss=0"
   ]
  },
  {
   "cell_type": "code",
   "execution_count": 17,
   "id": "80633605-202c-403c-9717-d2d92b4e58d3",
   "metadata": {},
   "outputs": [
    {
     "data": {
      "text/plain": [
       "[<matplotlib.lines.Line2D at 0x14c582f10>]"
      ]
     },
     "execution_count": 17,
     "metadata": {},
     "output_type": "execute_result"
    },
    {
     "data": {
      "image/png": "[encoded data removed]",
      "text/plain": [
       "<Figure size 640x480 with 1 Axes>"
      ]
     },
     "metadata": {},
     "output_type": "display_data"
    }
   ],
   "source": [
    "plt.plot(all_losses)"
   ]
  },
  {
   "cell_type": "code",
   "execution_count": 20,
   "id": "11fff358-1ac7-44ea-9a75-927e8a7bc9cd",
   "metadata": {},
   "outputs": [
    {
     "data": {
      "text/plain": [
       "tensor([[0., 1., 0., 0., 0., 0., 0., 0., 0., 0., 0., 0., 0., 0., 0., 0., 0., 0.]])"
      ]
     },
     "execution_count": 20,
     "metadata": {},
     "output_type": "execute_result"
    }
   ],
   "source": [
    "categoryTensor('German')"
   ]
  },
  {
   "cell_type": "code",
   "execution_count": 25,
   "id": "e06f526a-394b-421f-9b05-6023be5bc72d",
   "metadata": {},
   "outputs": [
    {
     "data": {
      "text/plain": [
       "tensor([[0., 0., 0., 0., 0., 0., 0., 0., 0., 0., 0., 0., 0., 0., 0., 0., 0., 0.,\n",
       "         0., 0., 0., 0., 0., 0., 0., 0., 0., 0., 0., 0., 0., 0., 0., 0., 0., 0.,\n",
       "         0., 0., 0., 0., 0., 0., 0., 1., 0., 0., 0., 0., 0., 0., 0., 0., 0., 0.,\n",
       "         0., 0., 0., 0., 0.]])"
      ]
     },
     "execution_count": 25,
     "metadata": {},
     "output_type": "execute_result"
    }
   ],
   "source": [
    "inputTensor('R')[0]"
   ]
  },
  {
   "cell_type": "code",
   "execution_count": 35,
   "id": "dcfe84a1-d829-465a-bb8e-c49ab80c4104",
   "metadata": {},
   "outputs": [],
   "source": [
    "p=rnn_generator(categoryTensor('Chinese'),inputTensor('p')[0],torch.zeros(1,hidden_size))"
   ]
  },
  {
   "cell_type": "code",
   "execution_count": 36,
   "id": "79f0baea-27a4-48fc-a8f3-4900ea2e4267",
   "metadata": {},
   "outputs": [
    {
     "data": {
      "text/plain": [
       "tensor([-4.2832, -4.2849, -4.3362, -4.4556, -4.2808, -4.4713, -4.2879, -4.3486,\n",
       "        -4.4590, -4.3388, -4.4973, -4.3979, -4.5140, -4.3877, -4.2913, -4.3602,\n",
       "        -4.2840, -4.3121, -4.3891, -4.4107, -4.5667, -4.4598, -4.3099, -4.6155,\n",
       "        -4.3448, -4.3788, -4.5104, -4.4592, -4.4559, -4.4349, -4.4251, -4.4897,\n",
       "        -4.2905, -4.3334, -4.5063, -4.4104, -4.2779, -4.3312, -4.2674, -4.4342,\n",
       "        -4.1781, -4.3206, -4.3286, -4.3940, -4.5124, -4.3921, -4.3267, -4.2614,\n",
       "        -4.5997, -4.4363, -4.5441, -4.4137, -4.3155, -4.4063, -4.3084, -4.3686,\n",
       "        -4.5023, -4.3593, -1.2795], grad_fn=<SelectBackward0>)"
      ]
     },
     "execution_count": 36,
     "metadata": {},
     "output_type": "execute_result"
    }
   ],
   "source": [
    "p[0][0]"
   ]
  },
  {
   "cell_type": "code",
   "execution_count": 37,
   "id": "a8b246cb-7da1-4e01-b08a-2d9b7ebfb48d",
   "metadata": {},
   "outputs": [
    {
     "data": {
      "text/plain": [
       "tensor(58)"
      ]
     },
     "execution_count": 37,
     "metadata": {},
     "output_type": "execute_result"
    }
   ],
   "source": [
    "torch.argmax(p[0][0])"
   ]
  },
  {
   "cell_type": "code",
   "execution_count": 51,
   "id": "146f3ce9-919d-4906-82c6-1114dd50200a",
   "metadata": {},
   "outputs": [
    {
     "data": {
      "text/plain": [
       "tensor([[0., 0., 0., 0., 0., 0., 0., 0., 0., 0., 0., 0., 0., 0., 0., 1., 0., 0.,\n",
       "         0., 0., 0., 0., 0., 0., 0., 0., 0., 0., 0., 0., 0., 0., 0., 0., 0., 0.,\n",
       "         0., 0., 0., 0., 0., 0., 0., 0., 0., 0., 0., 0., 0., 0., 0., 0., 0., 0.,\n",
       "         0., 0., 0., 0., 0.]])"
      ]
     },
     "execution_count": 51,
     "metadata": {},
     "output_type": "execute_result"
    }
   ],
   "source": [
    "inputTensor('p')[0]"
   ]
  },
  {
   "cell_type": "code",
   "execution_count": 60,
   "id": "d0495798-d51f-4944-a92a-e1ff4feb47c5",
   "metadata": {},
   "outputs": [
    {
     "data": {
      "text/plain": [
       "torch.Size([8])"
      ]
     },
     "execution_count": 60,
     "metadata": {},
     "output_type": "execute_result"
    }
   ],
   "source": [
    "randomTrainingExample_Generator()[2].shape"
   ]
  },
  {
   "cell_type": "code",
   "execution_count": null,
   "id": "f873090a-eaa4-489d-83da-154e56c6c965",
   "metadata": {},
   "outputs": [],
   "source": []
  }
 ],
 "metadata": {
  "kernelspec": {
   "display_name": "Python 3 (ipykernel)",
   "language": "python",
   "name": "python3"
  },
  "language_info": {
   "codemirror_mode": {
    "name": "ipython",
    "version": 3
   },
   "file_extension": ".py",
   "mimetype": "text/x-python",
   "name": "python",
   "nbconvert_exporter": "python",
   "pygments_lexer": "ipython3",
   "version": "3.11.3"
  }
 },
 "nbformat": 4,
 "nbformat_minor": 5
}
