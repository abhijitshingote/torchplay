{
 "cells": [
  {
   "cell_type": "code",
   "execution_count": 1,
   "id": "045b7aef-3ed8-46c1-bc14-e6b578bb85c9",
   "metadata": {},
   "outputs": [],
   "source": [
    "import torch\n",
    "import torch.nn as nn"
   ]
  },
  {
   "cell_type": "code",
   "execution_count": 2,
   "id": "5727070c-eef7-4d96-b58b-15d5caba76b4",
   "metadata": {},
   "outputs": [],
   "source": [
    "# Source for char embeddings - https://github.com/minimaxir/char-embeddings/tree/master/output\n",
    "embedding_path='char-embeddings.txt'"
   ]
  },
  {
   "cell_type": "code",
   "execution_count": 3,
   "id": "07a186d1-a79c-46c0-a0d0-76a3b3dd76e3",
   "metadata": {},
   "outputs": [],
   "source": [
    "import torchtext.vocab as vocab\n",
    "\n",
    "custom_embeddings = vocab.Vectors(name = embedding_path)"
   ]
  },
  {
   "cell_type": "code",
   "execution_count": 4,
   "id": "e445c2d5-e3c7-4f26-9ff2-0cf32bd9b4ba",
   "metadata": {},
   "outputs": [],
   "source": [
    "cos = nn.CosineSimilarity(dim=0, eps=1e-6)"
   ]
  },
  {
   "cell_type": "code",
   "execution_count": 5,
   "id": "5dee2b3e-c81b-41a9-87ed-e11f128d1427",
   "metadata": {},
   "outputs": [],
   "source": [
    "def get_mean_word_embedding(word):\n",
    "    wordembed=custom_embeddings.get_vecs_by_tokens([*word])\n",
    "    # take the mean\n",
    "    wordembed=wordembed.mean(dim=0)\n",
    "    return wordembed"
   ]
  },
  {
   "cell_type": "code",
   "execution_count": 6,
   "id": "aeec555c-c47b-4bf9-99a3-73616b9bd578",
   "metadata": {},
   "outputs": [],
   "source": [
    "def getSimilarity(str1,str2):\n",
    "    str1embed=get_mean_word_embedding(str1)\n",
    "    str2embed=get_mean_word_embedding(str2)\n",
    "    return cos(str1embed, str2embed)"
   ]
  },
  {
   "cell_type": "code",
   "execution_count": 7,
   "id": "8d3b4221-5cf7-4286-991b-a64188e31df8",
   "metadata": {},
   "outputs": [
    {
     "data": {
      "text/plain": [
       "tensor(0.9883)"
      ]
     },
     "execution_count": 7,
     "metadata": {},
     "output_type": "execute_result"
    }
   ],
   "source": [
    "getSimilarity('Abhijit Shingote','ShiotAbhijit')"
   ]
  },
  {
   "cell_type": "code",
   "execution_count": 8,
   "id": "53b378b3-fcd5-4d3a-93ad-4b200da5b557",
   "metadata": {},
   "outputs": [],
   "source": [
    "def getlines(path,line_numbers=[]):\n",
    "    with open(path, 'r') as fp:\n",
    "        lines = []\n",
    "        for i, line in enumerate(fp):\n",
    "            if i in line_numbers:\n",
    "                lines.append((i,line))\n",
    "    return lines"
   ]
  },
  {
   "cell_type": "code",
   "execution_count": 9,
   "id": "a77e5a77-fe3b-4af4-90fb-873316354f35",
   "metadata": {},
   "outputs": [],
   "source": [
    "def getSimilarityScores(query,path,n=5):\n",
    "    similarity_scores=[]\n",
    "    with open(path) as f:\n",
    "        for line in f:\n",
    "            similarity_scores.append(getSimilarity(query,line))\n",
    "    top_indexes=sorted(range(len(similarity_scores)), key=lambda i: similarity_scores[i])[-n:]\n",
    "    top_scores=[(i,similarity_scores[i]) for i in top_indexes]\n",
    "    top_scores=sorted(top_scores,key=lambda i:i[0])\n",
    "    lines=getlines(path,top_indexes)\n",
    "    lines=sorted(lines,key=lambda i:i[0])\n",
    "    final=list()\n",
    "    final=[(score[1].item(),line[1]) for score,line in zip(top_scores,lines)]\n",
    "    \n",
    "    return sorted(final,reverse=True)"
   ]
  },
  {
   "cell_type": "code",
   "execution_count": 10,
   "id": "90e6d705-bc56-4b5e-b1bc-617d3e973d78",
   "metadata": {},
   "outputs": [
    {
     "data": {
      "text/plain": [
       "[(0.9473178386688232,\n",
       "  '2022-11-16_000000328_in-network-rates_10_of_25.json.gz\\n'),\n",
       " (0.9465864896774292,\n",
       "  '2022-11-16_000000328_in-network-rates_02_of_25.json.gz\\n'),\n",
       " (0.9459896683692932,\n",
       "  '2022-11-16_000002133_in-network-rates_05_of_07.json.gz\\n'),\n",
       " (0.9449851512908936,\n",
       "  '2022-11-16_000000106_in-network-rates_06_of_15.json.gz\\n'),\n",
       " (0.9446848630905151,\n",
       "  '2022-11-16_000000328_in-network-rates_04_of_25.json.gz\\n')]"
      ]
     },
     "execution_count": 10,
     "metadata": {},
     "output_type": "execute_result"
    }
   ],
   "source": [
    "getSimilarityScores('2022-11-16_','universe.txt')"
   ]
  },
  {
   "cell_type": "code",
   "execution_count": null,
   "id": "6c8bd73c-acd1-40c0-acd5-d55e5dffc59c",
   "metadata": {},
   "outputs": [],
   "source": []
  }
 ],
 "metadata": {
  "kernelspec": {
   "display_name": "Python 3 (ipykernel)",
   "language": "python",
   "name": "python3"
  },
  "language_info": {
   "codemirror_mode": {
    "name": "ipython",
    "version": 3
   },
   "file_extension": ".py",
   "mimetype": "text/x-python",
   "name": "python",
   "nbconvert_exporter": "python",
   "pygments_lexer": "ipython3",
   "version": "3.11.7"
  }
 },
 "nbformat": 4,
 "nbformat_minor": 5
}
