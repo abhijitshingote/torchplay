{
 "cells": [
  {
   "cell_type": "code",
   "execution_count": 1,
   "id": "8960a75e-11e7-4042-9a23-8c9e7cde560d",
   "metadata": {},
   "outputs": [],
   "source": [
    "import torch\n",
    "from torch import nn\n",
    "from torch.utils.data import DataLoader\n",
    "from torchvision import datasets\n",
    "from torchvision.transforms import ToTensor,functional,Compose,Resize\n",
    "import numpy as np\n",
    "from PIL import Image\n",
    "from torch.utils.data import DataLoader\n",
    "import torch.nn.functional as F\n",
    "# from torchvision.transforms\n",
    "import math"
   ]
  },
  {
   "cell_type": "code",
   "execution_count": 4,
   "id": "37bd5ce3-62a4-4894-a8e2-358c47b7e985",
   "metadata": {},
   "outputs": [],
   "source": [
    "# Helper to get the input size to the fully connected layer which is an output of the convolutional portion\n",
    "\n",
    "def get_conv_output(inp,kernel_size=[5,5],padding=[0,0],dilation=[1,1],stride=[1,1]):\n",
    "    h_out=((inp[0]+(2*padding[0]) - dilation[0]*(kernel_size[0]-1) -1)/stride[0]) + 1\n",
    "    w_out=((inp[1]+(2*padding[1]) - dilation[1]*(kernel_size[1]-1) -1)/stride[1]) + 1\n",
    "    return h_out,w_out\n",
    "\n",
    "def get_pool_output(inp,kernel_size,padding=[0,0],dilation=[1,1],stride=None,ceil_mode=False):\n",
    "    if stride == None:\n",
    "        stride = kernel_size\n",
    "    h_out=(inp[0] + 2*padding[0] - dilation[0]*(kernel_size[0] - 1) - 1)/stride[0]+1\n",
    "    w_out=(inp[1] + 2*padding[1] - dilation[1]*(kernel_size[1] - 1) - 1)/stride[1]+1\n",
    "    if ceil_mode:\n",
    "        h_out=math.ceil(h_out)\n",
    "        w_out=math.ceil(w_out)\n",
    "    else:\n",
    "        h_out=math.floor(h_out)\n",
    "        w_out=math.floor(w_out)\n",
    "    return h_out,w_out\n",
    "\n",
    "a=get_pool_output(get_conv_output([64,64]),[2,2])\n",
    "b=get_pool_output(get_conv_output(a),[2,2])\n",
    "# b"
   ]
  },
  {
   "cell_type": "code",
   "execution_count": 3,
   "id": "d775da4e-cb92-49a5-b0b8-fd7b4d8f5531",
   "metadata": {},
   "outputs": [],
   "source": [
    "transform=Compose([Resize((64,64)),ToTensor()])\n",
    "imgloader_dataset=datasets.ImageFolder('data/train/',transform=transform)\n",
    "imgloader_dataloader=DataLoader(imgloader_dataset,batch_size=10,shuffle=True)\n",
    "classes=imgloader_dataset.classes"
   ]
  },
  {
   "cell_type": "code",
   "execution_count": 7,
   "id": "5dde25d8-c163-4a6e-bf06-2854460dab12",
   "metadata": {},
   "outputs": [
    {
     "name": "stdout",
     "output_type": "stream",
     "text": [
      "Using mps device\n"
     ]
    }
   ],
   "source": [
    "device = (\n",
    "    \"cuda\"\n",
    "    if torch.cuda.is_available()\n",
    "    else \"mps\"\n",
    "    if torch.backends.mps.is_available()\n",
    "    else \"cpu\"\n",
    ")\n",
    "print(f\"Using {device} device\")"
   ]
  },
  {
   "cell_type": "code",
   "execution_count": 8,
   "id": "05c67dab-fa0f-4027-bb58-d185772aee48",
   "metadata": {
    "tags": []
   },
   "outputs": [],
   "source": [
    "class MyModel(nn.Module):\n",
    "    def __init__(self):\n",
    "        super().__init__()\n",
    "        self.conv1=nn.Conv2d(3,6,5)\n",
    "        self.pool=nn.MaxPool2d(2, 2)\n",
    "        self.conv2=nn.Conv2d(6,16,5)\n",
    "        self.fc1=nn.Linear(16*13*13,500)\n",
    "        self.fc2=nn.Linear(500,1000)\n",
    "        self.output=nn.Linear(1000,10)\n",
    "        \n",
    "    def forward(self,x):\n",
    "        x=F.relu(self.conv1(x))\n",
    "        x=self.pool(x)\n",
    "        x=F.relu(self.conv2(x))\n",
    "        x=self.pool(x)\n",
    "        x=torch.flatten(x,1)\n",
    "        x=F.relu(self.fc1(x))\n",
    "        x=F.relu(self.fc2(x))\n",
    "        x=self.output(x)\n",
    "        return x\n",
    "        \n",
    "        "
   ]
  },
  {
   "cell_type": "code",
   "execution_count": 10,
   "id": "b7d6268b-e23b-40d7-b53a-69b297715749",
   "metadata": {},
   "outputs": [
    {
     "name": "stdout",
     "output_type": "stream",
     "text": [
      "MyModel(\n",
      "  (conv1): Conv2d(3, 6, kernel_size=(5, 5), stride=(1, 1))\n",
      "  (pool): MaxPool2d(kernel_size=2, stride=2, padding=0, dilation=1, ceil_mode=False)\n",
      "  (conv2): Conv2d(6, 16, kernel_size=(5, 5), stride=(1, 1))\n",
      "  (fc1): Linear(in_features=2704, out_features=500, bias=True)\n",
      "  (fc2): Linear(in_features=500, out_features=1000, bias=True)\n",
      "  (output): Linear(in_features=1000, out_features=10, bias=True)\n",
      ")\n"
     ]
    }
   ],
   "source": [
    "mymodel=MyModel()\n",
    "mymodel.to(device)\n",
    "print(mymodel)"
   ]
  },
  {
   "cell_type": "code",
   "execution_count": 11,
   "id": "9b476016-61f9-426d-b3e6-c43e37e9b9e2",
   "metadata": {},
   "outputs": [],
   "source": [
    "optimizer = torch.optim.SGD(mymodel.parameters(), lr=0.01)\n",
    "loss_fn=nn.CrossEntropyLoss()"
   ]
  },
  {
   "cell_type": "code",
   "execution_count": 12,
   "id": "db9eeb81-0f46-4dcd-9889-b81cda274059",
   "metadata": {
    "collapsed": true,
    "jupyter": {
     "outputs_hidden": true
    },
    "tags": []
   },
   "outputs": [
    {
     "name": "stdout",
     "output_type": "stream",
     "text": [
      "Epoch: 1 Batch: 1 Loss: 2.3037943840026855\n",
      "Epoch: 1 Batch: 201 Loss: 2.301267623901367\n",
      "Epoch: 1 Batch: 401 Loss: 2.3104281425476074\n",
      "Epoch: 1 Batch: 601 Loss: 2.2904984951019287\n",
      "Epoch: 1 Batch: 801 Loss: 2.299591541290283\n",
      "Epoch: 1 Batch: 1001 Loss: 2.1915841102600098\n",
      "Epoch: 1 Batch: 1201 Loss: 2.1098389625549316\n",
      "Epoch: 1 Batch: 1401 Loss: 2.110503911972046\n",
      "Epoch: 1 Batch: 1601 Loss: 2.1075282096862793\n",
      "Epoch: 1 Batch: 1801 Loss: 2.409313917160034\n",
      "Epoch: 1 Batch: 2001 Loss: 2.1264235973358154\n",
      "Epoch: 1 Batch: 2201 Loss: 1.89630925655365\n",
      "Epoch: 1 Batch: 2401 Loss: 1.9267774820327759\n",
      "Epoch: 1 Batch: 2601 Loss: 1.7733659744262695\n",
      "Epoch: 1 Batch: 2801 Loss: 2.071542978286743\n",
      "Epoch: 1 Batch: 3001 Loss: 2.2319443225860596\n",
      "Epoch: 1 Batch: 3201 Loss: 2.3597488403320312\n",
      "Epoch: 1 Batch: 3401 Loss: 1.6647411584854126\n",
      "Epoch: 1 Batch: 3601 Loss: 1.8839384317398071\n",
      "Epoch: 1 Batch: 3801 Loss: 2.38122296333313\n",
      "Epoch: 1 Batch: 4001 Loss: 1.6312048435211182\n",
      "Epoch: 1 Batch: 4201 Loss: 1.755866289138794\n",
      "Epoch: 1 Batch: 4401 Loss: 1.9850361347198486\n",
      "Epoch: 1 Batch: 4601 Loss: 1.5258733034133911\n",
      "Epoch: 1 Batch: 4801 Loss: 1.5998862981796265\n",
      "Epoch: 2 Batch: 1 Loss: 1.7652031183242798\n",
      "Epoch: 2 Batch: 201 Loss: 1.7468458414077759\n",
      "Epoch: 2 Batch: 401 Loss: 1.1879442930221558\n",
      "Epoch: 2 Batch: 601 Loss: 1.3947792053222656\n",
      "Epoch: 2 Batch: 801 Loss: 1.153559684753418\n",
      "Epoch: 2 Batch: 1001 Loss: 2.137686252593994\n",
      "Epoch: 2 Batch: 1201 Loss: 1.7563365697860718\n",
      "Epoch: 2 Batch: 1401 Loss: 1.49910569190979\n",
      "Epoch: 2 Batch: 1601 Loss: 2.0457406044006348\n",
      "Epoch: 2 Batch: 1801 Loss: 1.2692601680755615\n",
      "Epoch: 2 Batch: 2001 Loss: 1.7035655975341797\n",
      "Epoch: 2 Batch: 2201 Loss: 1.9395240545272827\n",
      "Epoch: 2 Batch: 2401 Loss: 1.1158863306045532\n",
      "Epoch: 2 Batch: 2601 Loss: 1.5848766565322876\n",
      "Epoch: 2 Batch: 2801 Loss: 1.252570390701294\n",
      "Epoch: 2 Batch: 3001 Loss: 1.379784345626831\n",
      "Epoch: 2 Batch: 3201 Loss: 1.207668662071228\n",
      "Epoch: 2 Batch: 3401 Loss: 1.1426738500595093\n",
      "Epoch: 2 Batch: 3601 Loss: 1.33247709274292\n",
      "Epoch: 2 Batch: 3801 Loss: 1.680803656578064\n",
      "Epoch: 2 Batch: 4001 Loss: 1.3602087497711182\n",
      "Epoch: 2 Batch: 4201 Loss: 1.4510791301727295\n",
      "Epoch: 2 Batch: 4401 Loss: 1.7775566577911377\n",
      "Epoch: 2 Batch: 4601 Loss: 1.5804998874664307\n",
      "Epoch: 2 Batch: 4801 Loss: 1.7411361932754517\n",
      "Epoch: 3 Batch: 1 Loss: 1.5108152627944946\n",
      "Epoch: 3 Batch: 201 Loss: 1.1724090576171875\n",
      "Epoch: 3 Batch: 401 Loss: 1.6724231243133545\n"
     ]
    },
    {
     "ename": "KeyboardInterrupt",
     "evalue": "",
     "output_type": "error",
     "traceback": [
      "\u001b[0;31m---------------------------------------------------------------------------\u001b[0m",
      "\u001b[0;31mKeyboardInterrupt\u001b[0m                         Traceback (most recent call last)",
      "Cell \u001b[0;32mIn[12], line 2\u001b[0m\n\u001b[1;32m      1\u001b[0m \u001b[38;5;28;01mfor\u001b[39;00m epoch \u001b[38;5;129;01min\u001b[39;00m \u001b[38;5;28mrange\u001b[39m(\u001b[38;5;241m1\u001b[39m,\u001b[38;5;241m6\u001b[39m):\n\u001b[0;32m----> 2\u001b[0m     \u001b[38;5;28;01mfor\u001b[39;00m batch_no,(X,y) \u001b[38;5;129;01min\u001b[39;00m \u001b[38;5;28menumerate\u001b[39m(imgloader_dataloader):\n\u001b[1;32m      3\u001b[0m         X,y\u001b[38;5;241m=\u001b[39mX\u001b[38;5;241m.\u001b[39mto(device),y\u001b[38;5;241m.\u001b[39mto(device)\n\u001b[1;32m      4\u001b[0m         optimizer\u001b[38;5;241m.\u001b[39mzero_grad()\n",
      "File \u001b[0;32m/opt/homebrew/anaconda3/envs/torch/lib/python3.11/site-packages/torch/utils/data/dataloader.py:633\u001b[0m, in \u001b[0;36m_BaseDataLoaderIter.__next__\u001b[0;34m(self)\u001b[0m\n\u001b[1;32m    630\u001b[0m \u001b[38;5;28;01mif\u001b[39;00m \u001b[38;5;28mself\u001b[39m\u001b[38;5;241m.\u001b[39m_sampler_iter \u001b[38;5;129;01mis\u001b[39;00m \u001b[38;5;28;01mNone\u001b[39;00m:\n\u001b[1;32m    631\u001b[0m     \u001b[38;5;66;03m# TODO(https://github.com/pytorch/pytorch/issues/76750)\u001b[39;00m\n\u001b[1;32m    632\u001b[0m     \u001b[38;5;28mself\u001b[39m\u001b[38;5;241m.\u001b[39m_reset()  \u001b[38;5;66;03m# type: ignore[call-arg]\u001b[39;00m\n\u001b[0;32m--> 633\u001b[0m data \u001b[38;5;241m=\u001b[39m \u001b[38;5;28mself\u001b[39m\u001b[38;5;241m.\u001b[39m_next_data()\n\u001b[1;32m    634\u001b[0m \u001b[38;5;28mself\u001b[39m\u001b[38;5;241m.\u001b[39m_num_yielded \u001b[38;5;241m+\u001b[39m\u001b[38;5;241m=\u001b[39m \u001b[38;5;241m1\u001b[39m\n\u001b[1;32m    635\u001b[0m \u001b[38;5;28;01mif\u001b[39;00m \u001b[38;5;28mself\u001b[39m\u001b[38;5;241m.\u001b[39m_dataset_kind \u001b[38;5;241m==\u001b[39m _DatasetKind\u001b[38;5;241m.\u001b[39mIterable \u001b[38;5;129;01mand\u001b[39;00m \\\n\u001b[1;32m    636\u001b[0m         \u001b[38;5;28mself\u001b[39m\u001b[38;5;241m.\u001b[39m_IterableDataset_len_called \u001b[38;5;129;01mis\u001b[39;00m \u001b[38;5;129;01mnot\u001b[39;00m \u001b[38;5;28;01mNone\u001b[39;00m \u001b[38;5;129;01mand\u001b[39;00m \\\n\u001b[1;32m    637\u001b[0m         \u001b[38;5;28mself\u001b[39m\u001b[38;5;241m.\u001b[39m_num_yielded \u001b[38;5;241m>\u001b[39m \u001b[38;5;28mself\u001b[39m\u001b[38;5;241m.\u001b[39m_IterableDataset_len_called:\n",
      "File \u001b[0;32m/opt/homebrew/anaconda3/envs/torch/lib/python3.11/site-packages/torch/utils/data/dataloader.py:677\u001b[0m, in \u001b[0;36m_SingleProcessDataLoaderIter._next_data\u001b[0;34m(self)\u001b[0m\n\u001b[1;32m    675\u001b[0m \u001b[38;5;28;01mdef\u001b[39;00m \u001b[38;5;21m_next_data\u001b[39m(\u001b[38;5;28mself\u001b[39m):\n\u001b[1;32m    676\u001b[0m     index \u001b[38;5;241m=\u001b[39m \u001b[38;5;28mself\u001b[39m\u001b[38;5;241m.\u001b[39m_next_index()  \u001b[38;5;66;03m# may raise StopIteration\u001b[39;00m\n\u001b[0;32m--> 677\u001b[0m     data \u001b[38;5;241m=\u001b[39m \u001b[38;5;28mself\u001b[39m\u001b[38;5;241m.\u001b[39m_dataset_fetcher\u001b[38;5;241m.\u001b[39mfetch(index)  \u001b[38;5;66;03m# may raise StopIteration\u001b[39;00m\n\u001b[1;32m    678\u001b[0m     \u001b[38;5;28;01mif\u001b[39;00m \u001b[38;5;28mself\u001b[39m\u001b[38;5;241m.\u001b[39m_pin_memory:\n\u001b[1;32m    679\u001b[0m         data \u001b[38;5;241m=\u001b[39m _utils\u001b[38;5;241m.\u001b[39mpin_memory\u001b[38;5;241m.\u001b[39mpin_memory(data, \u001b[38;5;28mself\u001b[39m\u001b[38;5;241m.\u001b[39m_pin_memory_device)\n",
      "File \u001b[0;32m/opt/homebrew/anaconda3/envs/torch/lib/python3.11/site-packages/torch/utils/data/_utils/fetch.py:51\u001b[0m, in \u001b[0;36m_MapDatasetFetcher.fetch\u001b[0;34m(self, possibly_batched_index)\u001b[0m\n\u001b[1;32m     49\u001b[0m         data \u001b[38;5;241m=\u001b[39m \u001b[38;5;28mself\u001b[39m\u001b[38;5;241m.\u001b[39mdataset\u001b[38;5;241m.\u001b[39m__getitems__(possibly_batched_index)\n\u001b[1;32m     50\u001b[0m     \u001b[38;5;28;01melse\u001b[39;00m:\n\u001b[0;32m---> 51\u001b[0m         data \u001b[38;5;241m=\u001b[39m [\u001b[38;5;28mself\u001b[39m\u001b[38;5;241m.\u001b[39mdataset[idx] \u001b[38;5;28;01mfor\u001b[39;00m idx \u001b[38;5;129;01min\u001b[39;00m possibly_batched_index]\n\u001b[1;32m     52\u001b[0m \u001b[38;5;28;01melse\u001b[39;00m:\n\u001b[1;32m     53\u001b[0m     data \u001b[38;5;241m=\u001b[39m \u001b[38;5;28mself\u001b[39m\u001b[38;5;241m.\u001b[39mdataset[possibly_batched_index]\n",
      "File \u001b[0;32m/opt/homebrew/anaconda3/envs/torch/lib/python3.11/site-packages/torch/utils/data/_utils/fetch.py:51\u001b[0m, in \u001b[0;36m<listcomp>\u001b[0;34m(.0)\u001b[0m\n\u001b[1;32m     49\u001b[0m         data \u001b[38;5;241m=\u001b[39m \u001b[38;5;28mself\u001b[39m\u001b[38;5;241m.\u001b[39mdataset\u001b[38;5;241m.\u001b[39m__getitems__(possibly_batched_index)\n\u001b[1;32m     50\u001b[0m     \u001b[38;5;28;01melse\u001b[39;00m:\n\u001b[0;32m---> 51\u001b[0m         data \u001b[38;5;241m=\u001b[39m [\u001b[38;5;28mself\u001b[39m\u001b[38;5;241m.\u001b[39mdataset[idx] \u001b[38;5;28;01mfor\u001b[39;00m idx \u001b[38;5;129;01min\u001b[39;00m possibly_batched_index]\n\u001b[1;32m     52\u001b[0m \u001b[38;5;28;01melse\u001b[39;00m:\n\u001b[1;32m     53\u001b[0m     data \u001b[38;5;241m=\u001b[39m \u001b[38;5;28mself\u001b[39m\u001b[38;5;241m.\u001b[39mdataset[possibly_batched_index]\n",
      "File \u001b[0;32m/opt/homebrew/anaconda3/envs/torch/lib/python3.11/site-packages/torchvision/datasets/folder.py:229\u001b[0m, in \u001b[0;36mDatasetFolder.__getitem__\u001b[0;34m(self, index)\u001b[0m\n\u001b[1;32m    221\u001b[0m \u001b[38;5;250m\u001b[39m\u001b[38;5;124;03m\"\"\"\u001b[39;00m\n\u001b[1;32m    222\u001b[0m \u001b[38;5;124;03mArgs:\u001b[39;00m\n\u001b[1;32m    223\u001b[0m \u001b[38;5;124;03m    index (int): Index\u001b[39;00m\n\u001b[0;32m   (...)\u001b[0m\n\u001b[1;32m    226\u001b[0m \u001b[38;5;124;03m    tuple: (sample, target) where target is class_index of the target class.\u001b[39;00m\n\u001b[1;32m    227\u001b[0m \u001b[38;5;124;03m\"\"\"\u001b[39;00m\n\u001b[1;32m    228\u001b[0m path, target \u001b[38;5;241m=\u001b[39m \u001b[38;5;28mself\u001b[39m\u001b[38;5;241m.\u001b[39msamples[index]\n\u001b[0;32m--> 229\u001b[0m sample \u001b[38;5;241m=\u001b[39m \u001b[38;5;28mself\u001b[39m\u001b[38;5;241m.\u001b[39mloader(path)\n\u001b[1;32m    230\u001b[0m \u001b[38;5;28;01mif\u001b[39;00m \u001b[38;5;28mself\u001b[39m\u001b[38;5;241m.\u001b[39mtransform \u001b[38;5;129;01mis\u001b[39;00m \u001b[38;5;129;01mnot\u001b[39;00m \u001b[38;5;28;01mNone\u001b[39;00m:\n\u001b[1;32m    231\u001b[0m     sample \u001b[38;5;241m=\u001b[39m \u001b[38;5;28mself\u001b[39m\u001b[38;5;241m.\u001b[39mtransform(sample)\n",
      "File \u001b[0;32m/opt/homebrew/anaconda3/envs/torch/lib/python3.11/site-packages/torchvision/datasets/folder.py:268\u001b[0m, in \u001b[0;36mdefault_loader\u001b[0;34m(path)\u001b[0m\n\u001b[1;32m    266\u001b[0m     \u001b[38;5;28;01mreturn\u001b[39;00m accimage_loader(path)\n\u001b[1;32m    267\u001b[0m \u001b[38;5;28;01melse\u001b[39;00m:\n\u001b[0;32m--> 268\u001b[0m     \u001b[38;5;28;01mreturn\u001b[39;00m pil_loader(path)\n",
      "File \u001b[0;32m/opt/homebrew/anaconda3/envs/torch/lib/python3.11/site-packages/torchvision/datasets/folder.py:247\u001b[0m, in \u001b[0;36mpil_loader\u001b[0;34m(path)\u001b[0m\n\u001b[1;32m    244\u001b[0m \u001b[38;5;28;01mdef\u001b[39;00m \u001b[38;5;21mpil_loader\u001b[39m(path: \u001b[38;5;28mstr\u001b[39m) \u001b[38;5;241m-\u001b[39m\u001b[38;5;241m>\u001b[39m Image\u001b[38;5;241m.\u001b[39mImage:\n\u001b[1;32m    245\u001b[0m     \u001b[38;5;66;03m# open path as file to avoid ResourceWarning (https://github.com/python-pillow/Pillow/issues/835)\u001b[39;00m\n\u001b[1;32m    246\u001b[0m     \u001b[38;5;28;01mwith\u001b[39;00m \u001b[38;5;28mopen\u001b[39m(path, \u001b[38;5;124m\"\u001b[39m\u001b[38;5;124mrb\u001b[39m\u001b[38;5;124m\"\u001b[39m) \u001b[38;5;28;01mas\u001b[39;00m f:\n\u001b[0;32m--> 247\u001b[0m         img \u001b[38;5;241m=\u001b[39m Image\u001b[38;5;241m.\u001b[39mopen(f)\n\u001b[1;32m    248\u001b[0m         \u001b[38;5;28;01mreturn\u001b[39;00m img\u001b[38;5;241m.\u001b[39mconvert(\u001b[38;5;124m\"\u001b[39m\u001b[38;5;124mRGB\u001b[39m\u001b[38;5;124m\"\u001b[39m)\n",
      "File \u001b[0;32m/opt/homebrew/anaconda3/envs/torch/lib/python3.11/site-packages/PIL/Image.py:3236\u001b[0m, in \u001b[0;36mopen\u001b[0;34m(fp, mode, formats)\u001b[0m\n\u001b[1;32m   3233\u001b[0m     fp \u001b[38;5;241m=\u001b[39m io\u001b[38;5;241m.\u001b[39mBytesIO(fp\u001b[38;5;241m.\u001b[39mread())\n\u001b[1;32m   3234\u001b[0m     exclusive_fp \u001b[38;5;241m=\u001b[39m \u001b[38;5;28;01mTrue\u001b[39;00m\n\u001b[0;32m-> 3236\u001b[0m prefix \u001b[38;5;241m=\u001b[39m fp\u001b[38;5;241m.\u001b[39mread(\u001b[38;5;241m16\u001b[39m)\n\u001b[1;32m   3238\u001b[0m preinit()\n\u001b[1;32m   3240\u001b[0m accept_warnings \u001b[38;5;241m=\u001b[39m []\n",
      "\u001b[0;31mKeyboardInterrupt\u001b[0m: "
     ]
    }
   ],
   "source": [
    "for epoch in range(1,6):\n",
    "    for batch_no,(X,y) in enumerate(imgloader_dataloader):\n",
    "        X,y=X.to(device),y.to(device)\n",
    "        optimizer.zero_grad()\n",
    "        pred=mymodel(X)\n",
    "        loss=loss_fn(pred,y)\n",
    "        loss.backward()\n",
    "        optimizer.step()\n",
    "        if batch_no%200==0:\n",
    "            print(f'Epoch: {epoch} Batch: {batch_no+1} Loss: {loss}')\n",
    "    "
   ]
  },
  {
   "cell_type": "code",
   "execution_count": 81,
   "id": "a0578d76-ce88-486c-91c7-c559264b042e",
   "metadata": {},
   "outputs": [
    {
     "name": "stdout",
     "output_type": "stream",
     "text": [
      "Predicted Class: bird\n"
     ]
    },
    {
     "data": {
      "image/png": "[encoded data removed]",
      "text/plain": [
       "<PIL.Image.Image image mode=RGB size=320x320>"
      ]
     },
     "execution_count": 81,
     "metadata": {},
     "output_type": "execute_result"
    }
   ],
   "source": [
    "idx=7\n",
    "\n",
    "samp=mymodel(X[idx].unsqueeze(0))\n",
    "x=torch.max(samp,1)\n",
    "print(f'Predicted Class: {classes[x[1]]}')\n",
    "\n",
    "# IMAGE SHOW\n",
    "imarray=X[idx].to('cpu').numpy()\n",
    "\n",
    "# image pixels are  between 0-1 , multiply by 255 to change from 0 to 255\n",
    "imarray = imarray * 255\n",
    "# doesnt like floats or ints, change to unsigned integer\n",
    "imarray = imarray.astype(np.uint8)\n",
    "# doesnt like channels first, change to channels last\n",
    "imarray=np.moveaxis(imarray,0,-1)\n",
    "\n",
    "Image.fromarray(imarray).resize((320,320))"
   ]
  },
  {
   "cell_type": "code",
   "execution_count": null,
   "id": "695891f8-fba5-46c3-915c-c6fb40bc8341",
   "metadata": {},
   "outputs": [],
   "source": []
  }
 ],
 "metadata": {
  "kernelspec": {
   "display_name": "Python 3 (ipykernel)",
   "language": "python",
   "name": "python3"
  },
  "language_info": {
   "codemirror_mode": {
    "name": "ipython",
    "version": 3
   },
   "file_extension": ".py",
   "mimetype": "text/x-python",
   "name": "python",
   "nbconvert_exporter": "python",
   "pygments_lexer": "ipython3",
   "version": "3.11.3"
  }
 },
 "nbformat": 4,
 "nbformat_minor": 5
}
